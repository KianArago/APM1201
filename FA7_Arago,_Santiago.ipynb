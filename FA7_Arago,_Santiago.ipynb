{
  "nbformat": 4,
  "nbformat_minor": 0,
  "metadata": {
    "colab": {
      "provenance": []
    },
    "kernelspec": {
      "name": "python3",
      "display_name": "Python 3"
    },
    "language_info": {
      "name": "python"
    }
  },
  "cells": [
    {
      "cell_type": "markdown",
      "source": [
        "P-9.53 Implement the in-place heap-sort algorithm. Experimentally compare its\n",
        "running time with that of the standard heap-sort that is not in-place.\n"
      ],
      "metadata": {
        "id": "S1PDWUYeZEdU"
      }
    },
    {
      "cell_type": "code",
      "source": [
        "import random\n",
        "import time\n",
        "import heapq\n",
        "\n",
        "def heapify(arr, n, i):\n",
        "    largest = i\n",
        "    left = 2 * i + 1\n",
        "    right = 2 * i + 2\n",
        "\n",
        "    if left < n and arr[left] > arr[largest]:\n",
        "        largest = left\n",
        "    if right < n and arr[right] > arr[largest]:\n",
        "        largest = right\n",
        "    if largest != i:\n",
        "        arr[i], arr[largest] = arr[largest], arr[i]\n",
        "        heapify(arr, n, largest)\n",
        "\n",
        "def heap_sort_in_place(arr):\n",
        "    n = len(arr)\n",
        "    for i in range(n // 2 - 1, -1, -1):\n",
        "        heapify(arr, n, i)\n",
        "    for i in range(n - 1, 0, -1):\n",
        "        arr[i], arr[0] = arr[0], arr[i]\n",
        "        heapify(arr, i, 0)\n",
        "\n",
        "def heap_sort_standard(arr):\n",
        "    heap = []\n",
        "    for num in arr:\n",
        "        heapq.heappush(heap, num)\n",
        "    return [heapq.heappop(heap) for _ in range(len(heap))]\n",
        "\n",
        "def compare_sort_algorithms():\n",
        "    test_sizes = [10_000, 50_000, 100_000]\n",
        "    for size in test_sizes:\n",
        "        data = random.sample(range(size * 2), size)\n",
        "\n",
        "        # In-place Heap-sort\n",
        "        start_time = time.time()\n",
        "        heap_sort_in_place(data[:])\n",
        "        in_place_time = time.time() - start_time\n",
        "\n",
        "        # Standard Heap-sort\n",
        "        start_time = time.time()\n",
        "        heap_sort_standard(data[:])\n",
        "        standard_time = time.time() - start_time\n",
        "\n",
        "        print(f\"Array size: {size}\")\n",
        "        print(f\"In-place Heap-sort: {in_place_time:.4f} seconds\")\n",
        "        print(f\"Standard Heap-sort: {standard_time:.4f} seconds\\n\")\n",
        "\n",
        "compare_sort_algorithms()\n"
      ],
      "metadata": {
        "id": "xrpd5jZOnISU",
        "outputId": "9fbb33e7-0089-4d81-ccbf-2abb2812f438",
        "colab": {
          "base_uri": "https://localhost:8080/"
        }
      },
      "execution_count": null,
      "outputs": [
        {
          "output_type": "stream",
          "name": "stdout",
          "text": [
            "Array size: 10000\n",
            "In-place Heap-sort: 0.0691 seconds\n",
            "Standard Heap-sort: 0.0067 seconds\n",
            "\n",
            "Array size: 50000\n",
            "In-place Heap-sort: 0.4555 seconds\n",
            "Standard Heap-sort: 0.0397 seconds\n",
            "\n",
            "Array size: 100000\n",
            "In-place Heap-sort: 1.0070 seconds\n",
            "Standard Heap-sort: 0.1018 seconds\n",
            "\n"
          ]
        }
      ]
    },
    {
      "cell_type": "markdown",
      "source": [
        "P-9.55 Write a program that can process a sequence of stock buy and sell orders\n",
        "as described in Exercise C-9.50."
      ],
      "metadata": {
        "id": "EaHzV4YGZDdk"
      }
    },
    {
      "cell_type": "code",
      "source": [
        "import heapq\n",
        "\n",
        "class StockTradingSystem:\n",
        "    def __init__(self):\n",
        "        self.sell_orders = []\n",
        "        self.buy_orders = []\n",
        "\n",
        "    def add_order(self, order_type, price, quantity):\n",
        "        if order_type == \"buy\":\n",
        "            self._process_buy_order(price, quantity)\n",
        "        elif order_type == \"sell\":\n",
        "            self._process_sell_order(price, quantity)\n",
        "        else:\n",
        "            print(\"Invalid order type. Use 'buy' or 'sell'.\")\n",
        "\n",
        "    def _process_buy_order(self, price, quantity):\n",
        "        while quantity > 0 and self.sell_orders and self.sell_orders[0][0] <= price:\n",
        "            sell_price, sell_quantity = heapq.heappop(self.sell_orders)\n",
        "            if sell_quantity > quantity:\n",
        "                heapq.heappush(self.sell_orders, (sell_price, sell_quantity - quantity))\n",
        "                print(f\"Processed buy order: {quantity} shares at ${sell_price} each.\")\n",
        "                quantity = 0\n",
        "            else:\n",
        "                print(f\"Processed buy order: {sell_quantity} shares at ${sell_price} each.\")\n",
        "                quantity -= sell_quantity\n",
        "\n",
        "        if quantity > 0:\n",
        "            heapq.heappush(self.buy_orders, (-price, quantity))\n",
        "            print(f\"Added buy order: {quantity} shares at ${price} each (waiting).\")\n",
        "\n",
        "    def _process_sell_order(self, price, quantity):\n",
        "        while quantity > 0 and self.buy_orders and -self.buy_orders[0][0] >= price:\n",
        "            buy_price, buy_quantity = heapq.heappop(self.buy_orders)\n",
        "            buy_price = -buy_price\n",
        "            if buy_quantity > quantity:\n",
        "                heapq.heappush(self.buy_orders, (-buy_price, buy_quantity - quantity))\n",
        "                print(f\"Processed sell order: {quantity} shares at ${buy_price} each.\")\n",
        "                quantity = 0\n",
        "            else:\n",
        "                print(f\"Processed sell order: {buy_quantity} shares at ${buy_price} each.\")\n",
        "                quantity -= buy_quantity\n",
        "\n",
        "        if quantity > 0:\n",
        "            heapq.heappush(self.sell_orders, (price, quantity))\n",
        "            print(f\"Added sell order: {quantity} shares at ${price} each (waiting).\")\n",
        "\n",
        "    def display_orders(self):\n",
        "        buy_orders = [(-price, quantity) for price, quantity in self.buy_orders]\n",
        "        sell_orders = [(price, quantity) for price, quantity in self.sell_orders]\n",
        "        buy_orders.sort(reverse=True)\n",
        "        sell_orders.sort()\n",
        "        print(\"\\nCurrent Orders:\")\n",
        "        print(\"Buy Orders (price, quantity):\", buy_orders)\n",
        "        print(\"Sell Orders (price, quantity):\", sell_orders)\n",
        "        print()\n",
        "\n",
        "if __name__ == \"__main__\":\n",
        "    system = StockTradingSystem()\n",
        "    print(\"Welcome to the Stock Trading System!\")\n",
        "    while True:\n",
        "        print(\"\\nEnter an order:\")\n",
        "        order_type = input(\"Order type (buy/sell): \").strip().lower()\n",
        "        if order_type not in {\"buy\", \"sell\"}:\n",
        "            print(\"Invalid order type. Please enter 'buy' or 'sell'.\")\n",
        "            continue\n",
        "\n",
        "        try:\n",
        "            price = float(input(\"Price per share: \"))\n",
        "            quantity = int(input(\"Quantity: \"))\n",
        "        except ValueError:\n",
        "            print(\"Invalid input. Please enter numeric values for price and quantity.\")\n",
        "            continue\n",
        "\n",
        "        system.add_order(order_type, price, quantity)\n",
        "        system.display_orders()\n",
        "\n",
        "        cont = input(\"Do you want to add another order? (yes/no): \").strip().lower()\n",
        "        if cont != \"yes\":\n",
        "            print(\"Thank you for using the Stock Trading System!\")\n",
        "            break\n",
        "\n"
      ],
      "metadata": {
        "id": "d9ipBgsza-7B",
        "colab": {
          "base_uri": "https://localhost:8080/"
        },
        "outputId": "feeef577-ecfb-4865-af76-441989b9162a"
      },
      "execution_count": 4,
      "outputs": [
        {
          "output_type": "stream",
          "name": "stdout",
          "text": [
            "Welcome to the Stock Trading System!\n",
            "\n",
            "Enter an order:\n",
            "Order type (buy/sell): 30.40\n",
            "Invalid order type. Please enter 'buy' or 'sell'.\n",
            "\n",
            "Enter an order:\n",
            "Order type (buy/sell): buy\n",
            "Price per share: 2\n",
            "Quantity: 10\n",
            "Added buy order: 10 shares at $2.0 each (waiting).\n",
            "\n",
            "Current Orders:\n",
            "Buy Orders (price, quantity): [(2.0, 10)]\n",
            "Sell Orders (price, quantity): []\n",
            "\n",
            "Do you want to add another order? (yes/no): no\n",
            "Thank you for using the Stock Trading System!\n"
          ]
        }
      ]
    }
  ]
}