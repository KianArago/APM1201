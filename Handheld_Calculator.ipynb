{
  "nbformat": 4,
  "nbformat_minor": 0,
  "metadata": {
    "colab": {
      "provenance": []
    },
    "kernelspec": {
      "name": "python3",
      "display_name": "Python 3"
    },
    "language_info": {
      "name": "python"
    }
  },
  "cells": [
    {
      "cell_type": "code",
      "execution_count": null,
      "metadata": {
        "colab": {
          "base_uri": "https://localhost:8080/"
        },
        "id": "ghCNO5b9npYH",
        "outputId": "f1868090-0879-40f5-9fc3-7a63e44c958c"
      },
      "outputs": [
        {
          "output_type": "stream",
          "name": "stdout",
          "text": [
            "Calculator reset. Current value: 0\n",
            "Welcome to the handheld calculator!\n",
            "Push buttons by entering numbers (e.g., 5), operators (+, -, *, /), or 'C' to clear.\n",
            "Type 'quit' to exit the calculator.\n",
            "Push a button: 10\n",
            "Current value: 10.0\n",
            "Push a button: *\n",
            "Current value: 10.0\n",
            "Push a button: 9\n",
            "Current value: 90.0\n",
            "Push a button: /\n",
            "Current value: 90.0\n",
            "Push a button: 6\n",
            "Current value: 15.0\n",
            "Push a button: /\n",
            "Current value: 15.0\n",
            "Push a button: 4\n",
            "Current value: 3.75\n"
          ]
        }
      ],
      "source": [
        "class Calculator:\n",
        "    def __init__(self):\n",
        "        self.clear()\n",
        "\n",
        "    def clear(self):\n",
        "        self.current_value = 0\n",
        "        self.operation = None\n",
        "        self.operand = None\n",
        "        print(\"Calculator reset. Current value: 0\")\n",
        "\n",
        "    def push(self, value):\n",
        "        if isinstance(value, (int, float)):\n",
        "            self.handle_number(value)\n",
        "        elif value in ['+', '-', '*', '/']:\n",
        "            self.handle_operation(value)\n",
        "        elif value == 'C':\n",
        "            self.clear()\n",
        "        else:\n",
        "            print(\"Invalid input. Please push a valid button.\")\n",
        "\n",
        "        self.display()\n",
        "\n",
        "    def handle_number(self, value):\n",
        "        if self.operation is None:\n",
        "            self.current_value = value\n",
        "        else:\n",
        "            self.perform_operation(value)\n",
        "\n",
        "    def handle_operation(self, operation):\n",
        "        if self.operation is None:\n",
        "            self.operation = operation\n",
        "        else:\n",
        "            print(\"You must enter a number before pushing an operation button.\")\n",
        "\n",
        "    def perform_operation(self, value):\n",
        "        if self.operation == '+':\n",
        "            self.current_value += value\n",
        "        elif self.operation == '-':\n",
        "            self.current_value -= value\n",
        "        elif self.operation == '*':\n",
        "            self.current_value *= value\n",
        "        elif self.operation == '/':\n",
        "            if value != 0:\n",
        "                self.current_value /= value\n",
        "            else:\n",
        "                print(\"Error: Division by zero.\")\n",
        "\n",
        "        self.operation = None\n",
        "\n",
        "    def display(self):2\n",
        "        print(f\"Current value: {self.current_value}\")\n",
        "\n",
        "\n",
        "def main():\n",
        "    calc = Calculator()\n",
        "\n",
        "    print(\"Welcome to the handheld calculator!\")\n",
        "    print(\"Push buttons by entering numbers (e.g., 5), operators (+, -, *, /), or 'C' to clear.\")\n",
        "    print(\"Type 'quit' to exit the calculator.\")\n",
        "\n",
        "    while True:\n",
        "        user_input = input(\"Push a button: \")\n",
        "        if user_input.lower() == 'quit':\n",
        "            print(\"Exiting calculator.\")\n",
        "            break\n",
        "        try:\n",
        "            if user_input in ['+', '-', '*', '/', 'C']:\n",
        "                calc.push(user_input)\n",
        "            else:\n",
        "                calc.push(float(user_input))\n",
        "        except ValueError:\n",
        "            print(\"Please push a valid button (number or operator).\")\n",
        "\n",
        "if __name__ == \"__main__\":\n",
        "    main()\n",
        "5"
      ]
    }
  ]
}