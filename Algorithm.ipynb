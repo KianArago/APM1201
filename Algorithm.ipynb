{
  "nbformat": 4,
  "nbformat_minor": 0,
  "metadata": {
    "colab": {
      "provenance": []
    },
    "kernelspec": {
      "name": "python3",
      "display_name": "Python 3"
    },
    "language_info": {
      "name": "python"
    }
  },
  "cells": [
    {
      "cell_type": "code",
      "execution_count": 14,
      "metadata": {
        "colab": {
          "base_uri": "https://localhost:8080/"
        },
        "id": "zl7Cgwl_sx3E",
        "outputId": "291e62ef-3ae4-4a4e-9c1d-6606ef51fe5a"
      },
      "outputs": [
        {
          "output_type": "stream",
          "name": "stdout",
          "text": [
            "Found pair for k=15000: (5000, 10000)\n",
            "Time taken: 0.001539 seconds\n",
            "Found pair for k=100: (1, 99)\n",
            "Time taken: 0.003154 seconds\n",
            "Found pair for k=20: (1, 19)\n",
            "Time taken: 0.001897 seconds\n",
            "Found pair for k=80: (1, 79)\n",
            "Time taken: 0.001832 seconds\n"
          ]
        }
      ],
      "source": [
        "import time\n",
        "\n",
        "def find_pair(S, k):\n",
        "    left = 0\n",
        "    right = len(S) - 1\n",
        "\n",
        "    while left < right:\n",
        "        current_sum = S[left] + S[right]\n",
        "\n",
        "        if current_sum == k:\n",
        "            return (S[left], S[right])\n",
        "        elif current_sum < k:\n",
        "            left += 1\n",
        "        else:\n",
        "            right -= 1\n",
        "\n",
        "    return None\n",
        "\n",
        "def measure_time():\n",
        "    S = [i for i in range(1, 10001)]\n",
        "    target_sums = [15000, 100, 20, 80]\n",
        "\n",
        "    for k in target_sums:\n",
        "        start_time = time.time()\n",
        "        result = find_pair(S, k)\n",
        "        end_time = time.time()\n",
        "\n",
        "        if result:\n",
        "            print(f\"Found pair for k={k}: {result}\")\n",
        "        else:\n",
        "            print(f\"No pair found for k={k}.\")\n",
        "\n",
        "        print(f\"Time taken: {end_time - start_time:.6f} seconds\")\n",
        "\n",
        "measure_time()\n",
        "\n",
        "\n"
      ]
    }
  ]
}